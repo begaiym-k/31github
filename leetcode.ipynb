{
 "cells": [
  {
   "cell_type": "markdown",
   "metadata": {},
   "source": [
    "# Merge sort"
   ]
  },
  {
   "cell_type": "code",
   "execution_count": null,
   "metadata": {},
   "outputs": [],
   "source": [
    "def merge_sort(arr: list):\n",
    "    if len(arr) <= 1: \n",
    "        return arr\n",
    "    mid_len = len(arr) // 2\n",
    "    left_arr = arr[0:mid_len]\n",
    "    right_arr = arr[mid_len:]\n",
    "    return merge(merge_sort(left_arr), merge_sort(right_arr))\n",
    "\n",
    "def merge(left_arr: list, right_arr: list):\n",
    "    sorted_arr = []\n",
    "    left_index = 0\n",
    "    right_index = 0\n",
    "\n",
    "    while left_index < len(left_arr) and right_index < len(right_arr):\n",
    "        if left_arr[left_index] < right_arr[right_index]:\n",
    "            sorted_arr.append(left_arr[left_index])\n",
    "            left_index += 1\n",
    "        else:\n",
    "            sorted_arr.append(right_arr[right_index])\n",
    "            right_index += 1\n",
    "        print(left_arr[left_index:])\n",
    "        print(right_arr[right_index:])\n",
    "        return sorted_arr + left_arr[left_index:] + right_arr[right_index:]\n"
   ]
  },
  {
   "cell_type": "markdown",
   "metadata": {},
   "source": [
    "# Anagram"
   ]
  },
  {
   "cell_type": "code",
   "execution_count": null,
   "metadata": {},
   "outputs": [],
   "source": [
    "def isAnagram(s, t):\n",
    "    \"\"\"\n",
    "    :type s: str\n",
    "    :type t: str\n",
    "    :rtype: bool\n",
    "    \"\"\"\n",
    "    if len(s) != len(t):\n",
    "        return False\n",
    "    countS = {} \n",
    "    countT = {}\n",
    "\n",
    "    for i in range(len(s)):\n",
    "        countS[s[i]] = 1 + countS.get(s[i], 0)\n",
    "        countT[t[i]] = 1 + countT.get(t[i], 0)\n",
    "    return countS == countT\n",
    "arr = [\"apple\", \"banana\", \"cherry\", \"banana\"]\n"
   ]
  },
  {
   "cell_type": "markdown",
   "metadata": {},
   "source": [
    "# Two Sum"
   ]
  },
  {
   "cell_type": "code",
   "execution_count": null,
   "metadata": {},
   "outputs": [],
   "source": [
    "def twoSum(nums, target):\n",
    "    \"\"\"\n",
    "    :type nums: List[int]\n",
    "    :type target: int\n",
    "    :rtype: List[int]\n",
    "    \"\"\"\n",
    "\n",
    "    new_set = {}\n",
    "    index = 0\n",
    "\n",
    "    for i in nums:\n",
    "        subs = target - i\n",
    "        \n",
    "        if new_set.get(subs) is not None:\n",
    "            return [new_set.get(subs), index]\n",
    "        new_set[i] = index\n",
    "        index += 1"
   ]
  },
  {
   "cell_type": "markdown",
   "metadata": {},
   "source": [
    "# Group Anagram"
   ]
  },
  {
   "cell_type": "code",
   "execution_count": null,
   "metadata": {},
   "outputs": [],
   "source": [
    "from collections import defaultdict\n",
    "\n",
    "strs = [\"eat\",\"tea\",\"tan\",\"ate\",\"nat\",\"bat\"]\n",
    "# Creates a default dictionaty where values are lists. Doesn't require setting an initial value to append\n",
    "result = defaultdict(list)\n",
    "\n",
    "# Solve using ascii values of the letters and the hashmaps\n",
    "def groupAnagrams(strs):\n",
    "    for s in strs:\n",
    "        count = [0] * 26\n",
    "        for c in s:\n",
    "            count[ord(c)-ord('a')] += 1\n",
    "        result[tuple(count)].append(s)\n",
    "    return result.values()\n",
    "groupAnagrams(strs)"
   ]
  },
  {
   "cell_type": "code",
   "execution_count": null,
   "metadata": {},
   "outputs": [],
   "source": [
    "# Solution with sorting\n",
    "strs = [\"eat\",\"tea\",\"tan\",\"ate\",\"nat\",\"bat\", \"eat\",\"tea\",\"tan\",\"ate\",\"nat\",\"bat\", \"eat\",\"tea\",\"tan\",\"ate\",\"nat\",\"bat\", \"eat\",\"tea\",\"tan\",\"ate\",\"nat\",\"bat\"]\n",
    "result = defaultdict(list)\n",
    "def groupAnagrams(strs):\n",
    "    for s in strs:\n",
    "        sorted_str = ''.join(sorted(s))\n",
    "        result[sorted_str].append(s)\n",
    "    return result.values()\n",
    "groupAnagrams(strs)"
   ]
  },
  {
   "cell_type": "markdown",
   "metadata": {},
   "source": [
    "# Top K Frequent Elements"
   ]
  },
  {
   "cell_type": "code",
   "execution_count": null,
   "metadata": {},
   "outputs": [],
   "source": [
    "def topKFrequent(nums, k):\n",
    "        \"\"\"\n",
    "        :type nums: List[int]\n",
    "        :type k: int\n",
    "        :rtype: List[int]\n",
    "        \"\"\"\n",
    "        result = {}\n",
    "        res = {}\n",
    "\n",
    "        for i in range(len(nums)):\n",
    "            result[str(nums[i])] = 1 + result.get(str(nums[i]), 0)\n",
    "            if len(res)<k:\n",
    "                 res[nums[i]] = result.get(str(nums[i]))\n",
    "                #  print(result.get(nums[i]))\n",
    "            else:\n",
    "                print(min(res.values()))\n",
    "                if result.get(str(nums[i])) > min(res.values()):\n",
    "                    res.pop(min(res, key=res.get))\n",
    "                    res[result.get(str(nums[i]))] = nums[i]\n",
    "            \n",
    "        return res.keys()\n",
    "topKFrequent([1,2,2, 3, 3, 4, 5], 2)"
   ]
  },
  {
   "cell_type": "markdown",
   "metadata": {},
   "source": [
    "#  Product of Array Except Self"
   ]
  },
  {
   "cell_type": "code",
   "execution_count": null,
   "metadata": {},
   "outputs": [],
   "source": [
    "def productExceptSelf(nums):\n",
    "    \"\"\"\n",
    "    :type nums: List[int]\n",
    "    :rtype: List[int]\n",
    "    \"\"\"\n",
    "    tmp_arr = []\n",
    "    tmp_arr.append(nums[0])\n",
    "    tmp_arr.append(nums[0])\n",
    "    for i in range(2, len(nums)):\n",
    "        tmp_arr.append(tmp_arr[i-1]*nums[i-1])\n",
    "    \n",
    "    print(tmp_arr)\n",
    "    const = 1\n",
    "\n",
    "    for i in reversed(range(len(nums))):\n",
    "        tmp_arr[i]*=const\n",
    "        const *= nums[i]\n",
    "        print(tmp_arr)\n",
    "\n",
    "nums = [-1,1,0,-3,3]\n",
    "productExceptSelf(nums)\n"
   ]
  },
  {
   "cell_type": "markdown",
   "metadata": {},
   "source": [
    "# Valid Sudoku\n",
    "My implementation"
   ]
  },
  {
   "cell_type": "code",
   "execution_count": 45,
   "metadata": {},
   "outputs": [],
   "source": [
    "from collections import defaultdict\n",
    "def isValidSudoku(board):\n",
    "    \"\"\"\n",
    "    :type board: List[List[str]]\n",
    "    :rtype: bool\n",
    "    \"\"\"\n",
    "    arr = [0] * 9\n",
    "    for raw in board:\n",
    "        for i in raw:\n",
    "            if i!=\".\":\n",
    "                arr[int(i, 0)-1] += 1\n",
    "                if arr[int(i, 0)-1] > 1: \n",
    "                    return False\n",
    "        arr = [0] * 9\n",
    "\n",
    "    for col in range(9):\n",
    "        for i in range(9):\n",
    "            if board[i][col]!=\".\":\n",
    "                arr[int(board[i][col])-1] += 1\n",
    "                if arr[int(board[i][col])-1] > 1: \n",
    "                    return False\n",
    "        arr = [0] * 9\n",
    "    add = 0\n",
    "    arr = defaultdict(int)\n",
    "    # return True\n",
    "    for _ in range(3):\n",
    "        for x in [0, 3, 6]:\n",
    "            for i in range(3):\n",
    "                for j in range(3):\n",
    "                    if board[x+i][j+add]!=\".\":\n",
    "                        # print(\"i\", i+add)\n",
    "                        print(board[x+i][j+add])\n",
    "                        arr[int(board[x+i][j+add])] += 1\n",
    "                        if arr.get(int(board[x+i][j+add])) > 1: \n",
    "                            return False\n",
    "            arr = defaultdict(int)\n",
    "        add += 3\n",
    "    return True"
   ]
  },
  {
   "cell_type": "code",
   "execution_count": 57,
   "metadata": {},
   "outputs": [],
   "source": [
    "from collections import defaultdict\n",
    "def isValidSudoku(board):\n",
    "    rows = defaultdict(set)\n",
    "    cols = defaultdict(set)\n",
    "    squares = defaultdict(set)\n",
    "\n",
    "    for r in range(9):\n",
    "        for c in range(9):\n",
    "            if board[r][c] == \".\":\n",
    "                continue\n",
    "\n",
    "            if board[r][c] in rows[r] or board[r][c] in cols[c] or board[r][c] in squares[r//3, c//3]:\n",
    "                return False\n",
    "            \n",
    "            rows[r].add(board[r][c])\n",
    "            cols[c].add(board[r][c])\n",
    "            squares[r//3, c//3].add(board[r][c])\n",
    "    return True\n"
   ]
  },
  {
   "cell_type": "code",
   "execution_count": 58,
   "metadata": {},
   "outputs": [
    {
     "data": {
      "text/plain": [
       "True"
      ]
     },
     "execution_count": 58,
     "metadata": {},
     "output_type": "execute_result"
    }
   ],
   "source": [
    "board = \\\n",
    "[[\"5\",\"3\",\".\",\".\",\"7\",\".\",\".\",\".\",\".\"]\n",
    ",[\"6\",\".\",\".\",\"1\",\"9\",\"5\",\".\",\".\",\".\"]\n",
    ",[\".\",\"9\",\"8\",\".\",\".\",\".\",\".\",\"6\",\".\"]\n",
    ",[\"8\",\".\",\".\",\".\",\"6\",\".\",\".\",\".\",\"3\"]\n",
    ",[\"4\",\".\",\".\",\"8\",\".\",\"3\",\".\",\".\",\"1\"]\n",
    ",[\"7\",\".\",\".\",\".\",\"2\",\".\",\".\",\".\",\"6\"]\n",
    ",[\".\",\"6\",\".\",\".\",\".\",\".\",\"2\",\"8\",\".\"]\n",
    ",[\".\",\".\",\".\",\"4\",\"1\",\"9\",\".\",\".\",\"5\"]\n",
    ",[\".\",\".\",\".\",\".\",\"8\",\".\",\".\",\"7\",\"9\"]]\n",
    "isValidSudoku(board)"
   ]
  },
  {
   "cell_type": "code",
   "execution_count": null,
   "metadata": {},
   "outputs": [],
   "source": []
  }
 ],
 "metadata": {
  "kernelspec": {
   "display_name": "base",
   "language": "python",
   "name": "python3"
  },
  "language_info": {
   "codemirror_mode": {
    "name": "ipython",
    "version": 3
   },
   "file_extension": ".py",
   "mimetype": "text/x-python",
   "name": "python",
   "nbconvert_exporter": "python",
   "pygments_lexer": "ipython3",
   "version": "3.10.13"
  }
 },
 "nbformat": 4,
 "nbformat_minor": 2
}
