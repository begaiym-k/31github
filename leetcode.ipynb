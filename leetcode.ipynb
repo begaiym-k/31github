{
 "cells": [
  {
   "cell_type": "markdown",
   "metadata": {},
   "source": [
    "# Merge sort"
   ]
  },
  {
   "cell_type": "code",
   "execution_count": null,
   "metadata": {},
   "outputs": [],
   "source": [
    "def merge_sort(arr: list):\n",
    "    if len(arr) <= 1: \n",
    "        return arr\n",
    "    mid_len = len(arr) // 2\n",
    "    left_arr = arr[0:mid_len]\n",
    "    right_arr = arr[mid_len:]\n",
    "    return merge(merge_sort(left_arr), merge_sort(right_arr))\n",
    "\n",
    "def merge(left_arr: list, right_arr: list):\n",
    "    sorted_arr = []\n",
    "    left_index = 0\n",
    "    right_index = 0\n",
    "\n",
    "    while left_index < len(left_arr) and right_index < len(right_arr):\n",
    "        if left_arr[left_index] < right_arr[right_index]:\n",
    "            sorted_arr.append(left_arr[left_index])\n",
    "            left_index += 1\n",
    "        else:\n",
    "            sorted_arr.append(right_arr[right_index])\n",
    "            right_index += 1\n",
    "        print(left_arr[left_index:])\n",
    "        print(right_arr[right_index:])\n",
    "        return sorted_arr + left_arr[left_index:] + right_arr[right_index:]\n"
   ]
  },
  {
   "cell_type": "markdown",
   "metadata": {},
   "source": [
    "# Anagram"
   ]
  },
  {
   "cell_type": "code",
   "execution_count": null,
   "metadata": {},
   "outputs": [],
   "source": [
    "def isAnagram(s, t):\n",
    "    \"\"\"\n",
    "    :type s: str\n",
    "    :type t: str\n",
    "    :rtype: bool\n",
    "    \"\"\"\n",
    "    if len(s) != len(t):\n",
    "        return False\n",
    "    countS = {} \n",
    "    countT = {}\n",
    "\n",
    "    for i in range(len(s)):\n",
    "        countS[s[i]] = 1 + countS.get(s[i], 0)\n",
    "        countT[t[i]] = 1 + countT.get(t[i], 0)\n",
    "    return countS == countT\n",
    "arr = [\"apple\", \"banana\", \"cherry\", \"banana\"]\n"
   ]
  },
  {
   "cell_type": "markdown",
   "metadata": {},
   "source": [
    "# Two Sum"
   ]
  },
  {
   "cell_type": "code",
   "execution_count": null,
   "metadata": {},
   "outputs": [],
   "source": [
    "def twoSum(nums, target):\n",
    "    \"\"\"\n",
    "    :type nums: List[int]\n",
    "    :type target: int\n",
    "    :rtype: List[int]\n",
    "    \"\"\"\n",
    "\n",
    "    new_set = {}\n",
    "    index = 0\n",
    "\n",
    "    for i in nums:\n",
    "        subs = target - i\n",
    "        \n",
    "        if new_set.get(subs) is not None:\n",
    "            return [new_set.get(subs), index]\n",
    "        new_set[i] = index\n",
    "        index += 1"
   ]
  },
  {
   "cell_type": "markdown",
   "metadata": {},
   "source": [
    "# Group Anagram"
   ]
  },
  {
   "cell_type": "code",
   "execution_count": null,
   "metadata": {},
   "outputs": [],
   "source": [
    "from collections import defaultdict\n",
    "\n",
    "strs = [\"eat\",\"tea\",\"tan\",\"ate\",\"nat\",\"bat\"]\n",
    "# Creates a default dictionaty where values are lists. Doesn't require setting an initial value to append\n",
    "result = defaultdict(list)\n",
    "\n",
    "# Solve using ascii values of the letters and the hashmaps\n",
    "def groupAnagrams(strs):\n",
    "    for s in strs:\n",
    "        count = [0] * 26\n",
    "        for c in s:\n",
    "            count[ord(c)-ord('a')] += 1\n",
    "        result[tuple(count)].append(s)\n",
    "    return result.values()\n",
    "groupAnagrams(strs)"
   ]
  },
  {
   "cell_type": "code",
   "execution_count": null,
   "metadata": {},
   "outputs": [],
   "source": [
    "# Solution with sorting\n",
    "strs = [\"eat\",\"tea\",\"tan\",\"ate\",\"nat\",\"bat\", \"eat\",\"tea\",\"tan\",\"ate\",\"nat\",\"bat\", \"eat\",\"tea\",\"tan\",\"ate\",\"nat\",\"bat\", \"eat\",\"tea\",\"tan\",\"ate\",\"nat\",\"bat\"]\n",
    "result = defaultdict(list)\n",
    "def groupAnagrams(strs):\n",
    "    for s in strs:\n",
    "        sorted_str = ''.join(sorted(s))\n",
    "        result[sorted_str].append(s)\n",
    "    return result.values()\n",
    "groupAnagrams(strs)"
   ]
  },
  {
   "cell_type": "markdown",
   "metadata": {},
   "source": [
    "# Top K Frequent Elements"
   ]
  },
  {
   "cell_type": "code",
   "execution_count": null,
   "metadata": {},
   "outputs": [],
   "source": [
    "def topKFrequent(nums, k):\n",
    "        \"\"\"\n",
    "        :type nums: List[int]\n",
    "        :type k: int\n",
    "        :rtype: List[int]\n",
    "        \"\"\"\n",
    "        result = {}\n",
    "        res = {}\n",
    "\n",
    "        for i in range(len(nums)):\n",
    "            result[str(nums[i])] = 1 + result.get(str(nums[i]), 0)\n",
    "            if len(res)<k:\n",
    "                 res[nums[i]] = result.get(str(nums[i]))\n",
    "                #  print(result.get(nums[i]))\n",
    "            else:\n",
    "                print(min(res.values()))\n",
    "                if result.get(str(nums[i])) > min(res.values()):\n",
    "                    res.pop(min(res, key=res.get))\n",
    "                    res[result.get(str(nums[i]))] = nums[i]\n",
    "            \n",
    "        return res.keys()\n",
    "topKFrequent([1,2,2, 3, 3, 4, 5], 2)"
   ]
  },
  {
   "cell_type": "markdown",
   "metadata": {},
   "source": [
    "#  Product of Array Except Self"
   ]
  },
  {
   "cell_type": "code",
   "execution_count": null,
   "metadata": {},
   "outputs": [],
   "source": [
    "def productExceptSelf(nums):\n",
    "    \"\"\"\n",
    "    :type nums: List[int]\n",
    "    :rtype: List[int]\n",
    "    \"\"\"\n",
    "    tmp_arr = []\n",
    "    tmp_arr.append(nums[0])\n",
    "    tmp_arr.append(nums[0])\n",
    "    for i in range(2, len(nums)):\n",
    "        tmp_arr.append(tmp_arr[i-1]*nums[i-1])\n",
    "    \n",
    "    print(tmp_arr)\n",
    "    const = 1\n",
    "\n",
    "    for i in reversed(range(len(nums))):\n",
    "        tmp_arr[i]*=const\n",
    "        const *= nums[i]\n",
    "        print(tmp_arr)\n",
    "\n",
    "nums = [-1,1,0,-3,3]\n",
    "productExceptSelf(nums)\n"
   ]
  },
  {
   "cell_type": "markdown",
   "metadata": {},
   "source": [
    "# Valid Sudoku\n",
    "My implementation"
   ]
  },
  {
   "cell_type": "code",
   "execution_count": null,
   "metadata": {},
   "outputs": [],
   "source": [
    "from collections import defaultdict\n",
    "def isValidSudoku(board):\n",
    "    \"\"\"\n",
    "    :type board: List[List[str]]\n",
    "    :rtype: bool\n",
    "    \"\"\"\n",
    "    arr = [0] * 9\n",
    "    for raw in board:\n",
    "        for i in raw:\n",
    "            if i!=\".\":\n",
    "                arr[int(i, 0)-1] += 1\n",
    "                if arr[int(i, 0)-1] > 1: \n",
    "                    return False\n",
    "        arr = [0] * 9\n",
    "\n",
    "    for col in range(9):\n",
    "        for i in range(9):\n",
    "            if board[i][col]!=\".\":\n",
    "                arr[int(board[i][col])-1] += 1\n",
    "                if arr[int(board[i][col])-1] > 1: \n",
    "                    return False\n",
    "        arr = [0] * 9\n",
    "    add = 0\n",
    "    arr = defaultdict(int)\n",
    "    # return True\n",
    "    for _ in range(3):\n",
    "        for x in [0, 3, 6]:\n",
    "            for i in range(3):\n",
    "                for j in range(3):\n",
    "                    if board[x+i][j+add]!=\".\":\n",
    "                        # print(\"i\", i+add)\n",
    "                        print(board[x+i][j+add])\n",
    "                        arr[int(board[x+i][j+add])] += 1\n",
    "                        if arr.get(int(board[x+i][j+add])) > 1: \n",
    "                            return False\n",
    "            arr = defaultdict(int)\n",
    "        add += 3\n",
    "    return True"
   ]
  },
  {
   "cell_type": "code",
   "execution_count": null,
   "metadata": {},
   "outputs": [],
   "source": [
    "from collections import defaultdict\n",
    "def isValidSudoku(board):\n",
    "    rows = defaultdict(set)\n",
    "    cols = defaultdict(set)\n",
    "    squares = defaultdict(set)\n",
    "\n",
    "    for r in range(9):\n",
    "        for c in range(9):\n",
    "            if board[r][c] == \".\":\n",
    "                continue\n",
    "\n",
    "            if board[r][c] in rows[r] or board[r][c] in cols[c] or board[r][c] in squares[r//3, c//3]:\n",
    "                return False\n",
    "            \n",
    "            rows[r].add(board[r][c])\n",
    "            cols[c].add(board[r][c])\n",
    "            squares[r//3, c//3].add(board[r][c])\n",
    "    return True\n"
   ]
  },
  {
   "cell_type": "code",
   "execution_count": null,
   "metadata": {},
   "outputs": [],
   "source": [
    "board = \\\n",
    "[[\"5\",\"3\",\".\",\".\",\"7\",\".\",\".\",\".\",\".\"]\n",
    ",[\"6\",\".\",\".\",\"1\",\"9\",\"5\",\".\",\".\",\".\"]\n",
    ",[\".\",\"9\",\"8\",\".\",\".\",\".\",\".\",\"6\",\".\"]\n",
    ",[\"8\",\".\",\".\",\".\",\"6\",\".\",\".\",\".\",\"3\"]\n",
    ",[\"4\",\".\",\".\",\"8\",\".\",\"3\",\".\",\".\",\"1\"]\n",
    ",[\"7\",\".\",\".\",\".\",\"2\",\".\",\".\",\".\",\"6\"]\n",
    ",[\".\",\"6\",\".\",\".\",\".\",\".\",\"2\",\"8\",\".\"]\n",
    ",[\".\",\".\",\".\",\"4\",\"1\",\"9\",\".\",\".\",\"5\"]\n",
    ",[\".\",\".\",\".\",\".\",\"8\",\".\",\".\",\"7\",\"9\"]]\n",
    "isValidSudoku(board)"
   ]
  },
  {
   "cell_type": "code",
   "execution_count": null,
   "metadata": {},
   "outputs": [],
   "source": [
    "def is_prime(n: int) -> bool:\n",
    "    \"\"\"\n",
    "    Function to check if a number is prime.\n",
    "\n",
    "    :param n: integer to check\n",
    "    :return: boolean indicating if the number is prime\n",
    "    \"\"\"\n",
    "    if n <= 1:\n",
    "        return False\n",
    "    if n <= 3:\n",
    "        return True\n",
    "    if n % 2 == 0 or n % 3 == 0:\n",
    "        return False\n",
    "    i = 5\n",
    "    while i * i <= n:\n",
    "        if n % i == 0 or n % (i + 2) == 0:\n",
    "            return False\n",
    "        i += 6\n",
    "    return True"
   ]
  },
  {
   "cell_type": "code",
   "execution_count": null,
   "metadata": {},
   "outputs": [],
   "source": [
    "import unittest\n",
    "\n",
    "class TestIsPrime(unittest.TestCase):\n",
    "    def test_is_prime(self):\n",
    "        self.assertEqual(is_prime(2), True)\n",
    "        self.assertEqual(is_prime(3), True)\n",
    "        self.assertEqual(is_prime(4), False)\n",
    "        self.assertEqual(is_prime(5), True)\n",
    "        self.assertEqual(is_prime(29), True)\n",
    "        self.assertEqual(is_prime(30), False)\n",
    "        self.assertEqual(is_prime(31), True)\n",
    "        self.assertEqual(is_prime(-1), False)\n",
    "        self.assertEqual(is_prime(0), False)\n",
    "        self.assertEqual(is_prime(1), False)\n",
    "\n",
    "if __name__ == '__main__':\n",
    "    unittest.main()"
   ]
  },
  {
   "cell_type": "markdown",
   "metadata": {},
   "source": [
    "# Sub Array Sum"
   ]
  },
  {
   "cell_type": "code",
   "execution_count": 4,
   "metadata": {},
   "outputs": [],
   "source": [
    "from typing import List\n",
    "\n",
    "def subarraySum(nums: List[int], k: int) -> int:\n",
    "    count = 0\n",
    "    sums = 0\n",
    "    d = dict()\n",
    "    d[0] = 1\n",
    "\n",
    "    for i in range(len(nums)):\n",
    "        sums += nums[i]\n",
    "        count += d.get(sums - k, 0)\n",
    "        d[sums] = d.get(sums, 0) + 1\n",
    "\n",
    "    return count"
   ]
  },
  {
   "cell_type": "markdown",
   "metadata": {},
   "source": [
    "# Palindrome"
   ]
  },
  {
   "cell_type": "code",
   "execution_count": 17,
   "metadata": {},
   "outputs": [],
   "source": [
    "def isPalindrome(s):\n",
    "    \"\"\"\n",
    "    :type s: str\n",
    "    :rtype: bool\n",
    "    \"\"\"\n",
    "\n",
    "    s = \"\".join([l.lower() for l in s if l.isalnum()])\n",
    "    ss = []\n",
    "    for l in s:\n",
    "        ss.insert(0, l)\n",
    "    if s == \"\".join(ss):\n",
    "        return True\n",
    "    \n",
    "    return False\n"
   ]
  },
  {
   "cell_type": "code",
   "execution_count": 36,
   "metadata": {},
   "outputs": [],
   "source": [
    "def isPalindrome(s):\n",
    "    l, r = 0, len(s) - 1\n",
    "\n",
    "    while l < r:\n",
    "        while l < r and not s[l].isalnum():\n",
    "            l += 1\n",
    "        while r > l and not s[r].isalnum():\n",
    "            r -= 1\n",
    "        \n",
    "        if s[r].lower() != s[l].lower():\n",
    "            return False\n",
    "        l, r = l+1, r-1\n",
    "    return True\n"
   ]
  },
  {
   "cell_type": "code",
   "execution_count": 37,
   "metadata": {},
   "outputs": [
    {
     "data": {
      "text/plain": [
       "False"
      ]
     },
     "execution_count": 37,
     "metadata": {},
     "output_type": "execute_result"
    }
   ],
   "source": [
    "s = \"race a car\"\n",
    "isPalindrome(s)"
   ]
  },
  {
   "cell_type": "markdown",
   "metadata": {},
   "source": [
    "# Two Sum II"
   ]
  },
  {
   "cell_type": "code",
   "execution_count": 21,
   "metadata": {},
   "outputs": [],
   "source": [
    "def twoSum(numbers, target):\n",
    "    \"\"\"\n",
    "    :type numbers: List[int]\n",
    "    :type target: int\n",
    "    :rtype: List[int]\n",
    "    \"\"\"\n",
    "\n",
    "    l, r = 0, len(numbers)-1\n",
    "\n",
    "    while True:\n",
    "\n",
    "            \n",
    "            \n"
   ]
  },
  {
   "cell_type": "code",
   "execution_count": 22,
   "metadata": {},
   "outputs": [
    {
     "data": {
      "text/plain": [
       "[1, 2]"
      ]
     },
     "execution_count": 22,
     "metadata": {},
     "output_type": "execute_result"
    }
   ],
   "source": [
    "numbers = [2,7,11,15]\n",
    "target = 9\n",
    "twoSum(numbers, target)"
   ]
  },
  {
   "cell_type": "markdown",
   "metadata": {},
   "source": [
    "# 3Sum"
   ]
  },
  {
   "cell_type": "code",
   "execution_count": 27,
   "metadata": {},
   "outputs": [],
   "source": [
    "from collections import defaultdict\n",
    "def three_sum(numbers):\n",
    "    arr = []\n",
    "    numbers.sort()\n",
    "\n",
    "    \n",
    "    for i, a in enumerate(numbers):\n",
    "\n",
    "        if i > 0 and a == numbers[i-1]:\n",
    "            continue\n",
    "        \n",
    "        l, r = i+1, len(numbers)-1\n",
    "       \n",
    "        while l < r:\n",
    "            # print(l)\n",
    "            sume = numbers[l]+numbers[r] + a\n",
    "            print(\"sum: \", sume)\n",
    "            if sume > 0:\n",
    "                r -= 1\n",
    "            elif sume < 0:\n",
    "                l += 1 \n",
    "            elif sume == 0:\n",
    "                print(sume)\n",
    "                arr.append([numbers[l], numbers[r], a])\n",
    "                l+=1\n",
    "                while numbers[l] == numbers[l-1] and l<r:\n",
    "                    l += 1 \n",
    "\n",
    "    return arr\n",
    "    \n"
   ]
  },
  {
   "cell_type": "code",
   "execution_count": 28,
   "metadata": {},
   "outputs": [
    {
     "name": "stdout",
     "output_type": "stream",
     "text": [
      "sum:  -3\n",
      "sum:  -3\n",
      "sum:  -2\n",
      "sum:  -1\n",
      "sum:  0\n",
      "0\n",
      "sum:  1\n",
      "sum:  0\n",
      "0\n",
      "sum:  3\n"
     ]
    },
    {
     "data": {
      "text/plain": [
       "[[-1, 2, -1], [0, 1, -1]]"
      ]
     },
     "execution_count": 28,
     "metadata": {},
     "output_type": "execute_result"
    }
   ],
   "source": [
    "nums = [-1,0,1,2,-1,-4]\n",
    "three_sum(nums)"
   ]
  },
  {
   "cell_type": "markdown",
   "metadata": {},
   "source": [
    "# Container with most water"
   ]
  },
  {
   "cell_type": "code",
   "execution_count": 32,
   "metadata": {},
   "outputs": [],
   "source": [
    "def maxArea(height):\n",
    "    ma = 0\n",
    "    l, r = 0, len(height) - 1\n",
    "    while l < r:\n",
    "        ma = max(min(height[l], height[r]) * len(height[l:r]), ma)\n",
    "        if height[l] > height[r]:\n",
    "            r -= 1\n",
    "        else:\n",
    "            l += 1\n",
    "    return ma     \n",
    "            \n"
   ]
  },
  {
   "cell_type": "code",
   "execution_count": 34,
   "metadata": {},
   "outputs": [
    {
     "data": {
      "text/plain": [
       "1"
      ]
     },
     "execution_count": 34,
     "metadata": {},
     "output_type": "execute_result"
    }
   ],
   "source": [
    "height = [1,8,6,2,5,4,8,3,7]\n",
    "height = [1,1]\n",
    "maxArea(height)"
   ]
  },
  {
   "cell_type": "code",
   "execution_count": 53,
   "metadata": {},
   "outputs": [],
   "source": [
    "def isValid(string):\n",
    "    \"\"\"\n",
    "    :type s: str\n",
    "    :rtype: bool\n",
    "    \"\"\"\n",
    "    stack = []\n",
    "    close_to_open = {\")\":\"(\", \"]\":\"[\", \"}\":\"{\"}\n",
    "\n",
    "    for s in string:\n",
    "        print(stack)\n",
    "        if s in close_to_open:\n",
    "            if stack and stack[-1] == close_to_open[s]:\n",
    "                stack.pop()\n",
    "            else: return False\n",
    "        else:\n",
    "            stack.append(s)\n",
    "    return True if not stack else False\n"
   ]
  },
  {
   "cell_type": "code",
   "execution_count": 56,
   "metadata": {},
   "outputs": [
    {
     "name": "stdout",
     "output_type": "stream",
     "text": [
      "[]\n",
      "['(']\n",
      "['(', '[']\n",
      "['(', '[', '{']\n",
      "['(', '[', '{', '[']\n",
      "['(', '[', '{']\n",
      "['(', '[']\n",
      "['(']\n"
     ]
    },
    {
     "data": {
      "text/plain": [
       "True"
      ]
     },
     "execution_count": 56,
     "metadata": {},
     "output_type": "execute_result"
    }
   ],
   "source": [
    "string = \"([{[]}])\"\n",
    "isValid(string)"
   ]
  },
  {
   "cell_type": "code",
   "execution_count": 58,
   "metadata": {},
   "outputs": [],
   "source": [
    "height.insert(2, 0)"
   ]
  },
  {
   "cell_type": "code",
   "execution_count": 59,
   "metadata": {},
   "outputs": [
    {
     "data": {
      "text/plain": [
       "[1, 0]"
      ]
     },
     "execution_count": 59,
     "metadata": {},
     "output_type": "execute_result"
    }
   ],
   "source": [
    "height"
   ]
  },
  {
   "cell_type": "code",
   "execution_count": null,
   "metadata": {},
   "outputs": [],
   "source": [
    "class MinStack(object):\n",
    "    \n",
    "    def __init__(self):\n",
    "        self.min_num = []\n",
    "        self.arr = []\n",
    "\n",
    "    def append_min(self, val):\n",
    "        if not self.min_num:\n",
    "            self.min_num.append(val)\n",
    "        else:\n",
    "            self.min_num.append(min(self.min_num[-1], val))\n",
    "\n",
    "    def push(self, val):\n",
    "        \"\"\"\n",
    "        :type val: int\n",
    "        :rtype: None\n",
    "        \"\"\"\n",
    "        self.append_min(val)\n",
    "        self.arr.append(val)\n",
    "\n",
    "    def pop(self):\n",
    "        \"\"\"\n",
    "        :rtype: None\n",
    "        \"\"\"\n",
    "        self.min_num.pop()\n",
    "        self.arr.pop()\n",
    "        \n",
    "    def top(self):\n",
    "        \"\"\"\n",
    "        :rtype: int\n",
    "        \"\"\"\n",
    "        return self.arr[-1]\n",
    "        \n",
    "\n",
    "    def getMin(self):\n",
    "        \"\"\"\n",
    "        :rtype: int\n",
    "        \"\"\"\n",
    "        return self.min_num[-1]"
   ]
  },
  {
   "cell_type": "code",
   "execution_count": 92,
   "metadata": {},
   "outputs": [],
   "source": [
    "def evalRPN(tokens):\n",
    "        \"\"\"\n",
    "        :type tokens: List[str]\n",
    "        :rtype: int\n",
    "        \"\"\"\n",
    "        stack = []\n",
    "        for c in tokens:\n",
    "            print(stack)\n",
    "            if c == \"*\":\n",
    "                stack.append(stack.pop() * stack.pop())\n",
    "            elif c == \"-\":\n",
    "                stack.append(stack.pop() - stack.pop())\n",
    "            elif c == \"+\":\n",
    "                \n",
    "                stack.append(stack.pop() + stack.pop())\n",
    "            elif c == \"/\":\n",
    "                a = stack.pop()\n",
    "                b = stack.pop()\n",
    "                stack.append(int(b / a))\n",
    "            else: \n",
    "                stack.append(int(c))\n",
    "        return stack\n"
   ]
  },
  {
   "cell_type": "code",
   "execution_count": 93,
   "metadata": {},
   "outputs": [
    {
     "name": "stdout",
     "output_type": "stream",
     "text": [
      "[]\n",
      "[10]\n",
      "[10, 6]\n",
      "[10, 6, 9]\n",
      "[10, 6, 9, 3]\n",
      "[10, 6, 12]\n",
      "[10, 6, 12, -11]\n",
      "[10, 6, -132]\n",
      "[10, 0]\n",
      "[0]\n",
      "[0, 17]\n",
      "[17]\n",
      "[17, 5]\n"
     ]
    },
    {
     "data": {
      "text/plain": [
       "[22]"
      ]
     },
     "execution_count": 93,
     "metadata": {},
     "output_type": "execute_result"
    }
   ],
   "source": [
    "evalRPN([\"10\",\"6\",\"9\",\"3\",\"+\",\"-11\",\"*\",\"/\",\"*\",\"17\",\"+\",\"5\",\"+\"])"
   ]
  },
  {
   "cell_type": "markdown",
   "metadata": {},
   "source": [
    "# Generate Parantheses"
   ]
  },
  {
   "cell_type": "code",
   "execution_count": 17,
   "metadata": {},
   "outputs": [],
   "source": [
    "def generateParanthese(n, target):\n",
    "    stack = []\n",
    "    p = []\n",
    "\n",
    "    def backtrack(open, closed):\n",
    "\n",
    "        if open == closed == n:\n",
    "            print(\"p append: \", p)\n",
    "            stack.append(\"\".join(p))\n",
    "            return\n",
    "        \n",
    "        if closed < open:\n",
    "            # print(\"open\", open)\n",
    "            print(\"1\", p)\n",
    "            p.append(\")\")\n",
    "            backtrack(open, closed+1)\n",
    "            print(\"2\", p)\n",
    "            p.pop()\n",
    "        \n",
    "        if open < n:\n",
    "            # print(\"close: \", closed)\n",
    "            print(\"3\", p)\n",
    "            p.append(\"(\")\n",
    "            backtrack(open+1, closed)\n",
    "            print(\"4\", p)\n",
    "            p.pop()\n",
    "    backtrack(0, 0)\n",
    "    return stack\n",
    "        \n"
   ]
  },
  {
   "cell_type": "markdown",
   "metadata": {},
   "source": [
    "Monotonic decreasing order"
   ]
  },
  {
   "cell_type": "code",
   "execution_count": 8,
   "metadata": {},
   "outputs": [],
   "source": [
    "def backtrack_signs(n, target):\n",
    "    # if sum(n) > target:\n",
    "    #     return False\n",
    "\n",
    "    def backtrack(inter_sum):\n",
    "        print(n)\n",
    "        print(inter_sum)\n",
    "        if not n:\n",
    "            return inter_sum \n",
    "        if inter_sum < target:\n",
    "            inter_sum += n.pop()\n",
    "            backtrack(inter_sum)\n",
    "        \n",
    "        if inter_sum > target:\n",
    "            inter_sum -= n.pop()\n",
    "            backtrack(inter_sum)\n",
    "\n",
    "\n",
    "    return backtrack(0) == target\n"
   ]
  },
  {
   "cell_type": "code",
   "execution_count": 53,
   "metadata": {},
   "outputs": [
    {
     "data": {
      "text/plain": [
       "5381"
      ]
     },
     "execution_count": 53,
     "metadata": {},
     "output_type": "execute_result"
    }
   ],
   "source": [
    "def target_sum(nums, target):\n",
    "    count = 0\n",
    "    def backtrack(nums, total_sum, idx):\n",
    "        nonlocal count\n",
    "        # print(f\"id: {idx}   sum {total_sum}\")\n",
    "        if len(nums) == idx:\n",
    "            # print(total_sum)\n",
    "            if total_sum == target:\n",
    "                count += 1\n",
    "            return\n",
    "        backtrack(nums, total_sum+nums[idx], idx+1)\n",
    "        backtrack(nums, total_sum-nums[idx], idx+1)\n",
    "    backtrack(nums, 0, 0)\n",
    "    return count\n",
    "\n",
    "target_sum([11,31,37,36,43,40,50,18,10,15,10,35,43,25,41,43,6,22,38,38], 44)\n"
   ]
  },
  {
   "cell_type": "code",
   "execution_count": 58,
   "metadata": {},
   "outputs": [
    {
     "data": {
      "text/plain": [
       "17"
      ]
     },
     "execution_count": 58,
     "metadata": {},
     "output_type": "execute_result"
    }
   ],
   "source": [
    "10^27"
   ]
  },
  {
   "cell_type": "code",
   "execution_count": 9,
   "metadata": {},
   "outputs": [],
   "source": [
    "def dailyTemperatures(tem):\n",
    "    \"\"\"\n",
    "    :type temperatures: List[int]\n",
    "    :rtype: List[int]\n",
    "    \"\"\"\n",
    "    stack = []\n",
    "    res = [0] * len(tem)\n",
    "    for i, a in enumerate(tem):\n",
    "        if not stack or a <= stack[-1][0]:\n",
    "            stack.append([a, i])\n",
    "        else:\n",
    "            while stack and a > stack[-1][0]:\n",
    "                stack_i = stack.pop()[1]\n",
    "                res[stack_i] = i - stack_i\n",
    "            \n",
    "            stack.append([a, i])\n",
    "    return res"
   ]
  },
  {
   "cell_type": "code",
   "execution_count": 10,
   "metadata": {},
   "outputs": [
    {
     "data": {
      "text/plain": [
       "[1, 1, 4, 2, 1, 1, 0, 0]"
      ]
     },
     "execution_count": 10,
     "metadata": {},
     "output_type": "execute_result"
    }
   ],
   "source": [
    "dailyTemperatures([73, 74, 75, 71, 69, 72, 76, 73])"
   ]
  },
  {
   "cell_type": "code",
   "execution_count": null,
   "metadata": {},
   "outputs": [],
   "source": []
  }
 ],
 "metadata": {
  "kernelspec": {
   "display_name": "base",
   "language": "python",
   "name": "python3"
  },
  "language_info": {
   "codemirror_mode": {
    "name": "ipython",
    "version": 3
   },
   "file_extension": ".py",
   "mimetype": "text/x-python",
   "name": "python",
   "nbconvert_exporter": "python",
   "pygments_lexer": "ipython3",
   "version": "3.10.13"
  }
 },
 "nbformat": 4,
 "nbformat_minor": 2
}
